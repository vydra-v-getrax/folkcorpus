{
 "cells": [
  {
   "cell_type": "code",
   "execution_count": 1,
   "metadata": {
    "colab": {
     "base_uri": "https://localhost:8080/",
     "height": 437
    },
    "id": "eh33FwESLuW6",
    "outputId": "043c1e12-e59d-4755-b15c-fc6fd3fb43d5"
   },
   "outputs": [
    {
     "name": "stdout",
     "output_type": "stream",
     "text": [
      "Collecting gensim\n",
      "  Downloading https://files.pythonhosted.org/packages/0b/66/04faeedb98bfa5f241d0399d0102456886179cabac0355475f23a2978847/gensim-3.8.3-cp37-cp37m-win_amd64.whl (24.2MB)\n",
      "Collecting Cython==0.29.14 (from gensim)\n",
      "  Downloading https://files.pythonhosted.org/packages/1f/be/b14be5c3ad1ff73096b518be1538282f053ec34faaca60a8753d975d7e93/Cython-0.29.14-cp37-cp37m-win_amd64.whl (1.7MB)\n",
      "Requirement already satisfied, skipping upgrade: smart-open>=1.8.1 in c:\\users\\xiaomi\\anaconda3\\lib\\site-packages (from gensim) (1.8.4)\n",
      "Requirement already satisfied, skipping upgrade: numpy>=1.11.3 in c:\\users\\xiaomi\\anaconda3\\lib\\site-packages (from gensim) (1.16.5)\n",
      "Requirement already satisfied, skipping upgrade: six>=1.5.0 in c:\\users\\xiaomi\\anaconda3\\lib\\site-packages (from gensim) (1.12.0)\n",
      "Requirement already satisfied, skipping upgrade: scipy>=0.18.1 in c:\\users\\xiaomi\\anaconda3\\lib\\site-packages (from gensim) (1.3.1)\n",
      "Requirement already satisfied, skipping upgrade: boto>=2.32 in c:\\users\\xiaomi\\anaconda3\\lib\\site-packages (from smart-open>=1.8.1->gensim) (2.49.0)\n",
      "Requirement already satisfied, skipping upgrade: boto3 in c:\\users\\xiaomi\\anaconda3\\lib\\site-packages (from smart-open>=1.8.1->gensim) (1.9.163)\n",
      "Requirement already satisfied, skipping upgrade: requests in c:\\users\\xiaomi\\anaconda3\\lib\\site-packages (from smart-open>=1.8.1->gensim) (2.22.0)\n",
      "Requirement already satisfied, skipping upgrade: s3transfer<0.3.0,>=0.2.0 in c:\\users\\xiaomi\\anaconda3\\lib\\site-packages (from boto3->smart-open>=1.8.1->gensim) (0.2.1)\n",
      "Requirement already satisfied, skipping upgrade: jmespath<1.0.0,>=0.7.1 in c:\\users\\xiaomi\\anaconda3\\lib\\site-packages (from boto3->smart-open>=1.8.1->gensim) (0.9.4)\n",
      "Requirement already satisfied, skipping upgrade: botocore<1.13.0,>=1.12.163 in c:\\users\\xiaomi\\anaconda3\\lib\\site-packages (from boto3->smart-open>=1.8.1->gensim) (1.12.163)\n",
      "Requirement already satisfied, skipping upgrade: urllib3!=1.25.0,!=1.25.1,<1.26,>=1.21.1 in c:\\users\\xiaomi\\anaconda3\\lib\\site-packages (from requests->smart-open>=1.8.1->gensim) (1.24.2)\n",
      "Requirement already satisfied, skipping upgrade: idna<2.9,>=2.5 in c:\\users\\xiaomi\\anaconda3\\lib\\site-packages (from requests->smart-open>=1.8.1->gensim) (2.8)\n",
      "Requirement already satisfied, skipping upgrade: certifi>=2017.4.17 in c:\\users\\xiaomi\\anaconda3\\lib\\site-packages (from requests->smart-open>=1.8.1->gensim) (2020.4.5.1)\n",
      "Requirement already satisfied, skipping upgrade: chardet<3.1.0,>=3.0.2 in c:\\users\\xiaomi\\anaconda3\\lib\\site-packages (from requests->smart-open>=1.8.1->gensim) (3.0.4)\n",
      "Requirement already satisfied, skipping upgrade: docutils>=0.10 in c:\\users\\xiaomi\\anaconda3\\lib\\site-packages (from botocore<1.13.0,>=1.12.163->boto3->smart-open>=1.8.1->gensim) (0.15.2)\n",
      "Requirement already satisfied, skipping upgrade: python-dateutil<3.0.0,>=2.1; python_version >= \"2.7\" in c:\\users\\xiaomi\\appdata\\roaming\\python\\python37\\site-packages (from botocore<1.13.0,>=1.12.163->boto3->smart-open>=1.8.1->gensim) (2.8.1)\n",
      "Installing collected packages: Cython, gensim\n",
      "  Found existing installation: Cython 0.29.13\n",
      "    Uninstalling Cython-0.29.13:\n",
      "      Successfully uninstalled Cython-0.29.13\n",
      "  Found existing installation: gensim 3.7.3\n",
      "    Uninstalling gensim-3.7.3:\n",
      "      Successfully uninstalled gensim-3.7.3\n",
      "Successfully installed Cython-0.29.14 gensim-3.8.3\n"
     ]
    },
    {
     "name": "stderr",
     "output_type": "stream",
     "text": [
      "ERROR: deeppavlov 0.6.1 has requirement Cython==0.29.12, but you'll have cython 0.29.14 which is incompatible.\n",
      "ERROR: deeppavlov 0.6.1 has requirement flask==1.1.1, but you'll have flask 1.1.2 which is incompatible.\n",
      "ERROR: deeppavlov 0.6.1 has requirement nltk==3.2.5, but you'll have nltk 3.4.5 which is incompatible.\n",
      "ERROR: deeppavlov 0.6.1 has requirement numpy==1.16.4, but you'll have numpy 1.16.5 which is incompatible.\n",
      "ERROR: deeppavlov 0.6.1 has requirement pandas==0.24.2, but you'll have pandas 0.25.1 which is incompatible.\n",
      "ERROR: deeppavlov 0.6.1 has requirement scikit-learn==0.21.2, but you'll have scikit-learn 0.21.3 which is incompatible.\n",
      "ERROR: deeppavlov 0.6.1 has requirement scipy==1.3.0, but you'll have scipy 1.3.1 which is incompatible.\n",
      "ERROR: deeppavlov 0.6.1 has requirement tqdm==4.32.2, but you'll have tqdm 4.36.1 which is incompatible.\n"
     ]
    },
    {
     "name": "stdout",
     "output_type": "stream",
     "text": [
      "Requirement already satisfied: pymorphy2 in c:\\users\\xiaomi\\anaconda3\\lib\\site-packages (0.8)\n",
      "Requirement already satisfied: dawg-python>=0.7 in c:\\users\\xiaomi\\anaconda3\\lib\\site-packages (from pymorphy2) (0.7.2)\n",
      "Requirement already satisfied: docopt>=0.6 in c:\\users\\xiaomi\\anaconda3\\lib\\site-packages (from pymorphy2) (0.6.2)\n",
      "Requirement already satisfied: pymorphy2-dicts<3.0,>=2.4 in c:\\users\\xiaomi\\anaconda3\\lib\\site-packages (from pymorphy2) (2.4.393442.3710985)\n",
      "Requirement already satisfied: razdel in c:\\users\\xiaomi\\anaconda3\\lib\\site-packages (0.5.0)\n",
      "Requirement already satisfied: pandas in c:\\users\\xiaomi\\anaconda3\\lib\\site-packages (0.25.1)\n",
      "Requirement already satisfied: pytz>=2017.2 in c:\\users\\xiaomi\\anaconda3\\lib\\site-packages (from pandas) (2019.3)\n",
      "Requirement already satisfied: python-dateutil>=2.6.1 in c:\\users\\xiaomi\\appdata\\roaming\\python\\python37\\site-packages (from pandas) (2.8.1)\n",
      "Requirement already satisfied: numpy>=1.13.3 in c:\\users\\xiaomi\\anaconda3\\lib\\site-packages (from pandas) (1.16.5)\n",
      "Requirement already satisfied: six>=1.5 in c:\\users\\xiaomi\\anaconda3\\lib\\site-packages (from python-dateutil>=2.6.1->pandas) (1.12.0)\n"
     ]
    },
    {
     "name": "stderr",
     "output_type": "stream",
     "text": [
      "C:\\Users\\Xiaomi\\Anaconda3\\lib\\site-packages\\tqdm\\std.py:648: FutureWarning: The Panel class is removed from pandas. Accessing it from the top-level namespace will also be removed in the next version\n",
      "  from pandas import Panel\n",
      "[nltk_data] Downloading package stopwords to\n",
      "[nltk_data]     C:\\Users\\Xiaomi\\AppData\\Roaming\\nltk_data...\n",
      "[nltk_data]   Package stopwords is already up-to-date!\n"
     ]
    }
   ],
   "source": [
    "!pip install gensim --upgrade\n",
    "%load_ext autoreload\n",
    "from gensim.models import Word2Vec, KeyedVectors\n",
    "!pip install pymorphy2\n",
    "!pip install razdel\n",
    "import os\n",
    "import pickle\n",
    "import json\n",
    "from sklearn.feature_extraction.text import CountVectorizer\n",
    "from math import log\n",
    "from pymorphy2 import MorphAnalyzer\n",
    "from string import punctuation\n",
    "!pip install pandas\n",
    "import pandas as pd\n",
    "from sklearn.feature_extraction.text import TfidfVectorizer\n",
    "import numpy as np\n",
    "from tqdm.auto import tqdm\n",
    "tqdm.pandas()\n",
    "from razdel import tokenize\n",
    "from razdel import sentenize\n",
    "from nltk.corpus import stopwords\n",
    "import nltk\n",
    "nltk.download(\"stopwords\")\n",
    "\n",
    "morph = MorphAnalyzer()\n",
    "russian_stopwords = stopwords.words(\"russian\")"
   ]
  },
  {
   "cell_type": "code",
   "execution_count": null,
   "metadata": {
    "id": "3tQtZ5nShaNy"
   },
   "outputs": [],
   "source": []
  },
  {
   "cell_type": "code",
   "execution_count": 2,
   "metadata": {
    "id": "nPvwoyJaL4lx"
   },
   "outputs": [],
   "source": [
    "def preprocess(text):\n",
    "    tokens = tokenize(text.lower())\n",
    "    tokens = [token.text for token in tokens \n",
    "              if token.text not in russian_stopwords\n",
    "              and token.text not in punctuation + '«»...–—!?']\n",
    "    lemmas = [morph.parse(token)[0].normal_form for token in tokens]\n",
    "    return lemmas"
   ]
  },
  {
   "cell_type": "code",
   "execution_count": 3,
   "metadata": {
    "id": "VU85YRmhMqMF"
   },
   "outputs": [],
   "source": [
    "def read_df(path):\n",
    "    queries = pd.read_excel(os.path.join(path, 'queries_base.xlsx'), usecols=[0, 1])\n",
    "    queries.columns = ['Текст','Номер связки']\n",
    "    answers = pd.read_excel(os.path.join(path, 'answers_base.xlsx'))\n",
    "\n",
    "    # Создаем базу вопросов и \"чистый\" корпус с леммами\n",
    "    answers['Список вопросов'] = answers['Текст вопросов'].apply(lambda x: x.split('\\n'))\n",
    "    answers = answers.explode('Список вопросов')\n",
    "    answers = answers.reset_index()\n",
    "    queries = queries.dropna()\n",
    "    answers = answers[['Список вопросов', 'Номер связки']]\n",
    "    answers.rename(columns={'Список вопросов':'Текст'}, inplace=True)\n",
    "    df = pd.concat([answers, queries], ignore_index=True)\n",
    "    test_size = round(queries.shape[0]*0.3)\n",
    "    df['Preprocessed'] = df['Текст'].progress_apply(preprocess)\n",
    "    df['n_words'] = df.Preprocessed.progress_apply(lambda x: len(x))\n",
    "    df = df[df.n_words > 0]\n",
    "    df['Prepstring'] = df.Preprocessed.progress_apply(lambda x: ' '.join(x))\n",
    "    df = df.reset_index()\n",
    "    return df, test_size"
   ]
  },
  {
   "cell_type": "code",
   "execution_count": null,
   "metadata": {
    "id": "LAA_Kp2-RcU6"
   },
   "outputs": [],
   "source": []
  },
  {
   "cell_type": "markdown",
   "metadata": {
    "id": "cT8VzU9vvo7Z"
   },
   "source": [
    "#Code"
   ]
  },
  {
   "cell_type": "code",
   "execution_count": null,
   "metadata": {
    "id": "K6_U25WCHj36"
   },
   "outputs": [],
   "source": []
  },
  {
   "cell_type": "code",
   "execution_count": 4,
   "metadata": {
    "id": "6ZtdPpGJQJa5"
   },
   "outputs": [],
   "source": [
    "def tfidf_vectorizer(corpus, vectorizer):\n",
    "    X = vectorizer.fit_transform(corpus)\n",
    "    matrix = pd.DataFrame(X.toarray(), columns=vectorizer.get_feature_names())\n",
    "    matrix.to_pickle('tfidf.pkl')\n",
    "    return matrix"
   ]
  },
  {
   "cell_type": "code",
   "execution_count": 5,
   "metadata": {
    "id": "9RnQtiiXSYbg"
   },
   "outputs": [],
   "source": [
    "def bm25_score(id_word, id_doc, tfidf, avgdl, N, k, b):\n",
    "    idf_score = idf(tfidf, id_word, N)\n",
    "    tfidf_score = tfidf.item((id_doc, id_word))\n",
    "    ld = np.count_nonzero(tfidf[id_doc, :])\n",
    "    res = idf_score * ((tfidf_score * (k + 1))/(tfidf_score + k * (1 - b + b * (ld / avgdl))))\n",
    "    return res"
   ]
  },
  {
   "cell_type": "code",
   "execution_count": 6,
   "metadata": {
    "id": "CQrBl1fTT0Tu"
   },
   "outputs": [],
   "source": [
    "def idf(tfidf, id_word, N):\n",
    "    # n_qi - number of document containing qi\n",
    "    # N -- number of docs in collection\n",
    "    n_qi = np.count_nonzero(tfidf[:, id_word])\n",
    "    return log((N - n_qi + 0.5)/(n_qi + 0.5))"
   ]
  },
  {
   "cell_type": "code",
   "execution_count": 7,
   "metadata": {
    "id": "DcTDxF4yT3BF"
   },
   "outputs": [],
   "source": [
    "def count_vec(corpus, vector):\n",
    "    corpus = vector.fit_transform(corpus).toarray()\n",
    "    with open('count_vectorizer_names.pkl', 'wb') as fp:\n",
    "        pickle.dump(vector.get_feature_names(), fp)\n",
    "    return corpus"
   ]
  },
  {
   "cell_type": "code",
   "execution_count": 8,
   "metadata": {
    "id": "yPPLG83dW-Lx"
   },
   "outputs": [],
   "source": [
    "def bm25_matrix(tfidf, N, avgdl, k, b):\n",
    "    n_words = tfidf.shape[1]\n",
    "    bm = np.zeros((N, n_words))\n",
    "    for id_doc in tqdm(range(N)):\n",
    "        for id_word in range(n_words):\n",
    "            bm[id_doc, id_word] = bm25_score(id_word, id_doc, tfidf, avgdl, N, k, b)\n",
    "    return bm"
   ]
  },
  {
   "cell_type": "code",
   "execution_count": 9,
   "metadata": {
    "id": "f-UhAaTvaZgB"
   },
   "outputs": [],
   "source": [
    "# с запросом\n",
    "def vectorize_query_tfidf(query):\n",
    "    new = np.zeros(tfidf_train.shape[1])\n",
    "    query = preprocess(query)\n",
    "    for i, word in enumerate(matrix.columns):\n",
    "        if word in query:\n",
    "            new[i] = 1\n",
    "    return new"
   ]
  },
  {
   "cell_type": "code",
   "execution_count": 10,
   "metadata": {
    "id": "Pv7KWsdEclkg"
   },
   "outputs": [],
   "source": [
    "# с запросом\n",
    "\n",
    "def vectorize_query_bm(query):\n",
    "    with open('count_vectorizer_names.pkl', 'rb') as f:\n",
    "        names = pickle.load(f)\n",
    "    new = np.zeros(len(names))\n",
    "    query = preprocess(query)\n",
    "    for i, word in enumerate(names):\n",
    "        if word in query:\n",
    "            new[i] = 1\n",
    "    return new"
   ]
  },
  {
   "cell_type": "code",
   "execution_count": 11,
   "metadata": {
    "id": "WWtX8T0PhEPN"
   },
   "outputs": [],
   "source": [
    "# с запросом\n",
    "\n",
    "def get_model(path):\n",
    "    model = KeyedVectors.load(path)\n",
    "    return model"
   ]
  },
  {
   "cell_type": "code",
   "execution_count": 12,
   "metadata": {
    "id": "R73u3_qFm_tG"
   },
   "outputs": [],
   "source": [
    "# !wget -c https://rusvectores.org/static/models/rusvectores4/fasttext/araneum_none_fasttextcbow_300_5_2018.tgz"
   ]
  },
  {
   "cell_type": "code",
   "execution_count": 13,
   "metadata": {
    "id": "mTsM98f_nnuo"
   },
   "outputs": [],
   "source": [
    "# !tar xvzf araneum_none_fasttextcbow_300_5_2018.tgz"
   ]
  },
  {
   "cell_type": "code",
   "execution_count": 14,
   "metadata": {
    "id": "hZQPVqwTle-V"
   },
   "outputs": [],
   "source": [
    "def normalize_vec(v):\n",
    "     return v / np.sqrt(np.sum(v ** 2))"
   ]
  },
  {
   "cell_type": "code",
   "execution_count": 15,
   "metadata": {
    "id": "-lMDI0-UmRZV"
   },
   "outputs": [],
   "source": [
    "def doc2vec(lemmas):\n",
    "    # создаем вектор-маску\n",
    "    lemmas_vectors = np.zeros((len(lemmas), model.vector_size))\n",
    "    vec = np.zeros((model.vector_size,))\n",
    "\n",
    "    # если слово есть в модели, берем его вектор\n",
    "    for idx, lemma in enumerate(lemmas):\n",
    "        try:\n",
    "            if lemma in model:\n",
    "                lemmas_vectors[idx] = model[lemma]\n",
    "        except AttributeError:\n",
    "            continue\n",
    "\n",
    "    # проверка на случай, если на вход пришел пустой массив\n",
    "    if lemmas_vectors.shape[0] is not 0:\n",
    "        vec = np.mean(lemmas_vectors, axis=0)\n",
    "\n",
    "    # нулевые не включаем\n",
    "    if np.sum(vec) != 0:\n",
    "        vec = normalize_vec(vec)\n",
    "\n",
    "    return vec"
   ]
  },
  {
   "cell_type": "code",
   "execution_count": null,
   "metadata": {
    "id": "vXwrt9VAmTNk"
   },
   "outputs": [],
   "source": []
  },
  {
   "cell_type": "code",
   "execution_count": null,
   "metadata": {
    "id": "fzm8WHwzmXk4"
   },
   "outputs": [],
   "source": []
  },
  {
   "cell_type": "code",
   "execution_count": 16,
   "metadata": {
    "id": "u9_mrzLWpLxN"
   },
   "outputs": [],
   "source": [
    "def get_w2v_query(query):\n",
    "    query = doc2vec(query)\n",
    "    return query"
   ]
  },
  {
   "cell_type": "code",
   "execution_count": 17,
   "metadata": {
    "id": "iw_sz2GwpkPU"
   },
   "outputs": [],
   "source": [
    "# построим матрицы всех документов\n",
    "\n",
    "def create_doc_matrix(lemmas):\n",
    "    lemmas_vectors = np.zeros((len(lemmas), model.vector_size))\n",
    "\n",
    "    for idx, lemma in enumerate(lemmas):\n",
    "        lemmas_vectors[idx] = normalize_vec(model[lemma])\n",
    "    \n",
    "    if lemmas == []:\n",
    "        lemmas_vectors = np.zeros((1, model.vector_size))\n",
    "\n",
    "    return lemmas_vectors  "
   ]
  },
  {
   "cell_type": "code",
   "execution_count": 18,
   "metadata": {
    "id": "LDzcSe-DquZw"
   },
   "outputs": [],
   "source": [
    "def search(docs, query, reduce_func=np.max, axis=0):\n",
    "\n",
    "    sims = []\n",
    "    for doc in docs:\n",
    "        sim = doc.dot(query.T)\n",
    "        sim = reduce_func(sim, axis=axis)\n",
    "        sims.append(sim.sum())\n",
    "    return np.argmax(sims)"
   ]
  },
  {
   "cell_type": "code",
   "execution_count": 19,
   "metadata": {
    "id": "GHU0hJm6xg5a"
   },
   "outputs": [],
   "source": [
    "def const_dict(data):\n",
    "    N = data.shape[0]\n",
    "    avgdl = sum(data.n_words)/N\n",
    "    k = 2.0\n",
    "    b = 0.75\n",
    "    const = {'corpus_size': N, 'avgdl': avgdl, 'k': k, 'b': b}\n",
    "    with open('const.json', 'w') as fp:\n",
    "        json.dump(const, fp)\n",
    "    return N, avgdl, k, b"
   ]
  },
  {
   "cell_type": "code",
   "execution_count": 20,
   "metadata": {
    "id": "7-jdhrQFMK22"
   },
   "outputs": [],
   "source": [
    "def get_doc2vec(data, N, model):\n",
    "    matrix = np.zeros((N, model.vector_size))\n",
    "    for idx, doc in enumerate(data.Preprocessed):\n",
    "        matrix[idx] = doc2vec(doc).tolist()\n",
    "    matrix.tofile('doc2vec.pkl')\n",
    "    return matrix"
   ]
  },
  {
   "cell_type": "code",
   "execution_count": 21,
   "metadata": {
    "id": "czcloyPgNQhX"
   },
   "outputs": [],
   "source": [
    "def get_doc2mat(data):\n",
    "    all_matrices = []\n",
    "    for doc in data.Preprocessed:\n",
    "        all_matrices.append(create_doc_matrix(doc))\n",
    "    with open('doc_matrices.pkl', 'wb') as fp:\n",
    "        pickle.dump(all_matrices, fp)\n",
    "    return all_matrices"
   ]
  },
  {
   "cell_type": "code",
   "execution_count": 22,
   "metadata": {
    "id": "fONS8-YCNgSX"
   },
   "outputs": [],
   "source": [
    "# with open('const.json', 'r') as fp:\n",
    "#     consts = json.load(fp)\n",
    "# N = consts['corpus_size']\n",
    "# avgdl = consts['avgdl']\n",
    "# k = consts['k']\n",
    "# b = consts['b']"
   ]
  },
  {
   "cell_type": "markdown",
   "metadata": {
    "id": "LijR7PQ8vmT0"
   },
   "source": [
    "#Main"
   ]
  },
  {
   "cell_type": "code",
   "execution_count": 23,
   "metadata": {
    "id": "jEcRJ8A5uZ_a"
   },
   "outputs": [],
   "source": [
    "def main():\n",
    "    print('Loading model...')\n",
    "    model = get_model('araneum_model/araneum_none_fasttextcbow_300_5_2018.model')\n",
    "    print('Preprocessing...')\n",
    "    df, test_size = read_df('/content')\n",
    "    train = df.iloc[:-test_size, :]\n",
    "    test = df.iloc[test_size:, :]\n",
    "    train.to_excel('base.xlsx')\n",
    "    N, avgdl, k, b = const_dict(train)\n",
    "    # print('Making count_vectorizer...')\n",
    "    # count_vectorizer = CountVectorizer()\n",
    "    # cv = count_vec(train.Prepstring, count_vectorizer)\n",
    "    # print('Making tfidf_vectorizer...')\n",
    "    # vectorizer = TfidfVectorizer(stop_words=russian_stopwords)\n",
    "    # tfidf_train = tfidf_vectorizer(train.Prepstring, vectorizer)\n",
    "    # tfidf_train = pd.read_pickle('tfidf.pkl')\n",
    "    # print('Making bm25...')\n",
    "    # bm25 = bm25_matrix(cv, N, avgdl, k, b)\n",
    "    # bm25.tofile('bm25.pkl')\n",
    "    print('Making doc2vec...')\n",
    "    print(N)\n",
    "    matrix = get_doc2vec(train, N, model)\n",
    "    print('Making doc2mat...')\n",
    "    all_matrices = get_doc2mat(train)"
   ]
  },
  {
   "cell_type": "code",
   "execution_count": null,
   "metadata": {
    "colab": {
     "base_uri": "https://localhost:8080/",
     "height": 247,
     "referenced_widgets": [
      "e418fb7d5f684ddfb318e89f7372983b",
      "cee5826ead074450a5d3380a253ea5e2",
      "24a418cbf6e5407bb66d9af580cd7fd7",
      "291321fca6d241c08bbba58ed500fe88",
      "13760b26ffa349b3a62bf20537572a50",
      "d2ffdcf66d6c4df9bcc78d45e513d585",
      "bb09ff22d86e4cd69eec5c1a33542abd",
      "c1e73a6bd52f44738d7541452eeb7149",
      "948e9898267e47c8a856c4ffa98dd8b6",
      "4b1e50e54f0941349c2017494095862a",
      "46227a3919804c619576ce3f57cc8d24",
      "4c75a3d924d4489aae8910ec744076f7",
      "d960f87b9fa1442c9c098f51df382831",
      "7b94ec9112ce4097b8c9028c2fa99f7f",
      "18fb4b7624c447f58de39fbb7f023fa5",
      "f63ffacdf767468ba0e2d15c7879c9a3",
      "2bafa07e8de94023b1159dfcc28105da",
      "6414171ce8ef454b95bca1307e13b0ce",
      "06c65520ec294d22927b9963cd0cf140",
      "88438b8eb84c4eeea5888726858319aa",
      "1a4fa5c6bf2543eebe5030d0e41769f4",
      "583c4e981e374fefae66a47b1130a63e",
      "7ae32cbce3bf4b8d975019686d8c2466",
      "dcf960f3ebaa4613ad852249941de775"
     ]
    },
    "id": "GQS6I0_8scU0",
    "outputId": "8e81c6a9-e148-4968-b97d-13d5b0cd6fc6"
   },
   "outputs": [
    {
     "name": "stdout",
     "output_type": "stream",
     "text": [
      "Loading model...\n"
     ]
    }
   ],
   "source": [
    "if __name__ == \"__main__\":\n",
    "    main()"
   ]
  },
  {
   "cell_type": "code",
   "execution_count": null,
   "metadata": {
    "id": "2vPO-wtwVK-M"
   },
   "outputs": [],
   "source": []
  }
 ],
 "metadata": {
  "colab": {
   "name": "final project.ipynb",
   "provenance": []
  },
  "kernelspec": {
   "display_name": "Python 3",
   "language": "python",
   "name": "python3"
  },
  "language_info": {
   "codemirror_mode": {
    "name": "ipython",
    "version": 3
   },
   "file_extension": ".py",
   "mimetype": "text/x-python",
   "name": "python",
   "nbconvert_exporter": "python",
   "pygments_lexer": "ipython3",
   "version": "3.7.3"
  },
  "widgets": {
   "application/vnd.jupyter.widget-state+json": {
    "06c65520ec294d22927b9963cd0cf140": {
     "model_module": "@jupyter-widgets/controls",
     "model_name": "FloatProgressModel",
     "state": {
      "_dom_classes": [],
      "_model_module": "@jupyter-widgets/controls",
      "_model_module_version": "1.5.0",
      "_model_name": "FloatProgressModel",
      "_view_count": null,
      "_view_module": "@jupyter-widgets/controls",
      "_view_module_version": "1.5.0",
      "_view_name": "ProgressView",
      "bar_style": "success",
      "description": "100%",
      "description_tooltip": null,
      "layout": "IPY_MODEL_583c4e981e374fefae66a47b1130a63e",
      "max": 3057,
      "min": 0,
      "orientation": "horizontal",
      "style": "IPY_MODEL_1a4fa5c6bf2543eebe5030d0e41769f4",
      "value": 3057
     }
    },
    "13760b26ffa349b3a62bf20537572a50": {
     "model_module": "@jupyter-widgets/controls",
     "model_name": "ProgressStyleModel",
     "state": {
      "_model_module": "@jupyter-widgets/controls",
      "_model_module_version": "1.5.0",
      "_model_name": "ProgressStyleModel",
      "_view_count": null,
      "_view_module": "@jupyter-widgets/base",
      "_view_module_version": "1.2.0",
      "_view_name": "StyleView",
      "bar_color": null,
      "description_width": "initial"
     }
    },
    "18fb4b7624c447f58de39fbb7f023fa5": {
     "model_module": "@jupyter-widgets/controls",
     "model_name": "DescriptionStyleModel",
     "state": {
      "_model_module": "@jupyter-widgets/controls",
      "_model_module_version": "1.5.0",
      "_model_name": "DescriptionStyleModel",
      "_view_count": null,
      "_view_module": "@jupyter-widgets/base",
      "_view_module_version": "1.2.0",
      "_view_name": "StyleView",
      "description_width": ""
     }
    },
    "1a4fa5c6bf2543eebe5030d0e41769f4": {
     "model_module": "@jupyter-widgets/controls",
     "model_name": "ProgressStyleModel",
     "state": {
      "_model_module": "@jupyter-widgets/controls",
      "_model_module_version": "1.5.0",
      "_model_name": "ProgressStyleModel",
      "_view_count": null,
      "_view_module": "@jupyter-widgets/base",
      "_view_module_version": "1.2.0",
      "_view_name": "StyleView",
      "bar_color": null,
      "description_width": "initial"
     }
    },
    "24a418cbf6e5407bb66d9af580cd7fd7": {
     "model_module": "@jupyter-widgets/controls",
     "model_name": "FloatProgressModel",
     "state": {
      "_dom_classes": [],
      "_model_module": "@jupyter-widgets/controls",
      "_model_module_version": "1.5.0",
      "_model_name": "FloatProgressModel",
      "_view_count": null,
      "_view_module": "@jupyter-widgets/controls",
      "_view_module_version": "1.5.0",
      "_view_name": "ProgressView",
      "bar_style": "success",
      "description": "100%",
      "description_tooltip": null,
      "layout": "IPY_MODEL_d2ffdcf66d6c4df9bcc78d45e513d585",
      "max": 3071,
      "min": 0,
      "orientation": "horizontal",
      "style": "IPY_MODEL_13760b26ffa349b3a62bf20537572a50",
      "value": 3071
     }
    },
    "291321fca6d241c08bbba58ed500fe88": {
     "model_module": "@jupyter-widgets/controls",
     "model_name": "HTMLModel",
     "state": {
      "_dom_classes": [],
      "_model_module": "@jupyter-widgets/controls",
      "_model_module_version": "1.5.0",
      "_model_name": "HTMLModel",
      "_view_count": null,
      "_view_module": "@jupyter-widgets/controls",
      "_view_module_version": "1.5.0",
      "_view_name": "HTMLView",
      "description": "",
      "description_tooltip": null,
      "layout": "IPY_MODEL_c1e73a6bd52f44738d7541452eeb7149",
      "placeholder": "​",
      "style": "IPY_MODEL_bb09ff22d86e4cd69eec5c1a33542abd",
      "value": " 3071/3071 [00:23&lt;00:00, 132.86it/s]"
     }
    },
    "2bafa07e8de94023b1159dfcc28105da": {
     "model_module": "@jupyter-widgets/controls",
     "model_name": "HBoxModel",
     "state": {
      "_dom_classes": [],
      "_model_module": "@jupyter-widgets/controls",
      "_model_module_version": "1.5.0",
      "_model_name": "HBoxModel",
      "_view_count": null,
      "_view_module": "@jupyter-widgets/controls",
      "_view_module_version": "1.5.0",
      "_view_name": "HBoxView",
      "box_style": "",
      "children": [
       "IPY_MODEL_06c65520ec294d22927b9963cd0cf140",
       "IPY_MODEL_88438b8eb84c4eeea5888726858319aa"
      ],
      "layout": "IPY_MODEL_6414171ce8ef454b95bca1307e13b0ce"
     }
    },
    "46227a3919804c619576ce3f57cc8d24": {
     "model_module": "@jupyter-widgets/controls",
     "model_name": "FloatProgressModel",
     "state": {
      "_dom_classes": [],
      "_model_module": "@jupyter-widgets/controls",
      "_model_module_version": "1.5.0",
      "_model_name": "FloatProgressModel",
      "_view_count": null,
      "_view_module": "@jupyter-widgets/controls",
      "_view_module_version": "1.5.0",
      "_view_name": "ProgressView",
      "bar_style": "success",
      "description": "100%",
      "description_tooltip": null,
      "layout": "IPY_MODEL_7b94ec9112ce4097b8c9028c2fa99f7f",
      "max": 3071,
      "min": 0,
      "orientation": "horizontal",
      "style": "IPY_MODEL_d960f87b9fa1442c9c098f51df382831",
      "value": 3071
     }
    },
    "4b1e50e54f0941349c2017494095862a": {
     "model_module": "@jupyter-widgets/base",
     "model_name": "LayoutModel",
     "state": {
      "_model_module": "@jupyter-widgets/base",
      "_model_module_version": "1.2.0",
      "_model_name": "LayoutModel",
      "_view_count": null,
      "_view_module": "@jupyter-widgets/base",
      "_view_module_version": "1.2.0",
      "_view_name": "LayoutView",
      "align_content": null,
      "align_items": null,
      "align_self": null,
      "border": null,
      "bottom": null,
      "display": null,
      "flex": null,
      "flex_flow": null,
      "grid_area": null,
      "grid_auto_columns": null,
      "grid_auto_flow": null,
      "grid_auto_rows": null,
      "grid_column": null,
      "grid_gap": null,
      "grid_row": null,
      "grid_template_areas": null,
      "grid_template_columns": null,
      "grid_template_rows": null,
      "height": null,
      "justify_content": null,
      "justify_items": null,
      "left": null,
      "margin": null,
      "max_height": null,
      "max_width": null,
      "min_height": null,
      "min_width": null,
      "object_fit": null,
      "object_position": null,
      "order": null,
      "overflow": null,
      "overflow_x": null,
      "overflow_y": null,
      "padding": null,
      "right": null,
      "top": null,
      "visibility": null,
      "width": null
     }
    },
    "4c75a3d924d4489aae8910ec744076f7": {
     "model_module": "@jupyter-widgets/controls",
     "model_name": "HTMLModel",
     "state": {
      "_dom_classes": [],
      "_model_module": "@jupyter-widgets/controls",
      "_model_module_version": "1.5.0",
      "_model_name": "HTMLModel",
      "_view_count": null,
      "_view_module": "@jupyter-widgets/controls",
      "_view_module_version": "1.5.0",
      "_view_name": "HTMLView",
      "description": "",
      "description_tooltip": null,
      "layout": "IPY_MODEL_f63ffacdf767468ba0e2d15c7879c9a3",
      "placeholder": "​",
      "style": "IPY_MODEL_18fb4b7624c447f58de39fbb7f023fa5",
      "value": " 3071/3071 [00:00&lt;00:00, 44186.01it/s]"
     }
    },
    "583c4e981e374fefae66a47b1130a63e": {
     "model_module": "@jupyter-widgets/base",
     "model_name": "LayoutModel",
     "state": {
      "_model_module": "@jupyter-widgets/base",
      "_model_module_version": "1.2.0",
      "_model_name": "LayoutModel",
      "_view_count": null,
      "_view_module": "@jupyter-widgets/base",
      "_view_module_version": "1.2.0",
      "_view_name": "LayoutView",
      "align_content": null,
      "align_items": null,
      "align_self": null,
      "border": null,
      "bottom": null,
      "display": null,
      "flex": null,
      "flex_flow": null,
      "grid_area": null,
      "grid_auto_columns": null,
      "grid_auto_flow": null,
      "grid_auto_rows": null,
      "grid_column": null,
      "grid_gap": null,
      "grid_row": null,
      "grid_template_areas": null,
      "grid_template_columns": null,
      "grid_template_rows": null,
      "height": null,
      "justify_content": null,
      "justify_items": null,
      "left": null,
      "margin": null,
      "max_height": null,
      "max_width": null,
      "min_height": null,
      "min_width": null,
      "object_fit": null,
      "object_position": null,
      "order": null,
      "overflow": null,
      "overflow_x": null,
      "overflow_y": null,
      "padding": null,
      "right": null,
      "top": null,
      "visibility": null,
      "width": null
     }
    },
    "6414171ce8ef454b95bca1307e13b0ce": {
     "model_module": "@jupyter-widgets/base",
     "model_name": "LayoutModel",
     "state": {
      "_model_module": "@jupyter-widgets/base",
      "_model_module_version": "1.2.0",
      "_model_name": "LayoutModel",
      "_view_count": null,
      "_view_module": "@jupyter-widgets/base",
      "_view_module_version": "1.2.0",
      "_view_name": "LayoutView",
      "align_content": null,
      "align_items": null,
      "align_self": null,
      "border": null,
      "bottom": null,
      "display": null,
      "flex": null,
      "flex_flow": null,
      "grid_area": null,
      "grid_auto_columns": null,
      "grid_auto_flow": null,
      "grid_auto_rows": null,
      "grid_column": null,
      "grid_gap": null,
      "grid_row": null,
      "grid_template_areas": null,
      "grid_template_columns": null,
      "grid_template_rows": null,
      "height": null,
      "justify_content": null,
      "justify_items": null,
      "left": null,
      "margin": null,
      "max_height": null,
      "max_width": null,
      "min_height": null,
      "min_width": null,
      "object_fit": null,
      "object_position": null,
      "order": null,
      "overflow": null,
      "overflow_x": null,
      "overflow_y": null,
      "padding": null,
      "right": null,
      "top": null,
      "visibility": null,
      "width": null
     }
    },
    "7ae32cbce3bf4b8d975019686d8c2466": {
     "model_module": "@jupyter-widgets/controls",
     "model_name": "DescriptionStyleModel",
     "state": {
      "_model_module": "@jupyter-widgets/controls",
      "_model_module_version": "1.5.0",
      "_model_name": "DescriptionStyleModel",
      "_view_count": null,
      "_view_module": "@jupyter-widgets/base",
      "_view_module_version": "1.2.0",
      "_view_name": "StyleView",
      "description_width": ""
     }
    },
    "7b94ec9112ce4097b8c9028c2fa99f7f": {
     "model_module": "@jupyter-widgets/base",
     "model_name": "LayoutModel",
     "state": {
      "_model_module": "@jupyter-widgets/base",
      "_model_module_version": "1.2.0",
      "_model_name": "LayoutModel",
      "_view_count": null,
      "_view_module": "@jupyter-widgets/base",
      "_view_module_version": "1.2.0",
      "_view_name": "LayoutView",
      "align_content": null,
      "align_items": null,
      "align_self": null,
      "border": null,
      "bottom": null,
      "display": null,
      "flex": null,
      "flex_flow": null,
      "grid_area": null,
      "grid_auto_columns": null,
      "grid_auto_flow": null,
      "grid_auto_rows": null,
      "grid_column": null,
      "grid_gap": null,
      "grid_row": null,
      "grid_template_areas": null,
      "grid_template_columns": null,
      "grid_template_rows": null,
      "height": null,
      "justify_content": null,
      "justify_items": null,
      "left": null,
      "margin": null,
      "max_height": null,
      "max_width": null,
      "min_height": null,
      "min_width": null,
      "object_fit": null,
      "object_position": null,
      "order": null,
      "overflow": null,
      "overflow_x": null,
      "overflow_y": null,
      "padding": null,
      "right": null,
      "top": null,
      "visibility": null,
      "width": null
     }
    },
    "88438b8eb84c4eeea5888726858319aa": {
     "model_module": "@jupyter-widgets/controls",
     "model_name": "HTMLModel",
     "state": {
      "_dom_classes": [],
      "_model_module": "@jupyter-widgets/controls",
      "_model_module_version": "1.5.0",
      "_model_name": "HTMLModel",
      "_view_count": null,
      "_view_module": "@jupyter-widgets/controls",
      "_view_module_version": "1.5.0",
      "_view_name": "HTMLView",
      "description": "",
      "description_tooltip": null,
      "layout": "IPY_MODEL_dcf960f3ebaa4613ad852249941de775",
      "placeholder": "​",
      "style": "IPY_MODEL_7ae32cbce3bf4b8d975019686d8c2466",
      "value": " 3057/3057 [00:00&lt;00:00, 20545.98it/s]"
     }
    },
    "948e9898267e47c8a856c4ffa98dd8b6": {
     "model_module": "@jupyter-widgets/controls",
     "model_name": "HBoxModel",
     "state": {
      "_dom_classes": [],
      "_model_module": "@jupyter-widgets/controls",
      "_model_module_version": "1.5.0",
      "_model_name": "HBoxModel",
      "_view_count": null,
      "_view_module": "@jupyter-widgets/controls",
      "_view_module_version": "1.5.0",
      "_view_name": "HBoxView",
      "box_style": "",
      "children": [
       "IPY_MODEL_46227a3919804c619576ce3f57cc8d24",
       "IPY_MODEL_4c75a3d924d4489aae8910ec744076f7"
      ],
      "layout": "IPY_MODEL_4b1e50e54f0941349c2017494095862a"
     }
    },
    "bb09ff22d86e4cd69eec5c1a33542abd": {
     "model_module": "@jupyter-widgets/controls",
     "model_name": "DescriptionStyleModel",
     "state": {
      "_model_module": "@jupyter-widgets/controls",
      "_model_module_version": "1.5.0",
      "_model_name": "DescriptionStyleModel",
      "_view_count": null,
      "_view_module": "@jupyter-widgets/base",
      "_view_module_version": "1.2.0",
      "_view_name": "StyleView",
      "description_width": ""
     }
    },
    "c1e73a6bd52f44738d7541452eeb7149": {
     "model_module": "@jupyter-widgets/base",
     "model_name": "LayoutModel",
     "state": {
      "_model_module": "@jupyter-widgets/base",
      "_model_module_version": "1.2.0",
      "_model_name": "LayoutModel",
      "_view_count": null,
      "_view_module": "@jupyter-widgets/base",
      "_view_module_version": "1.2.0",
      "_view_name": "LayoutView",
      "align_content": null,
      "align_items": null,
      "align_self": null,
      "border": null,
      "bottom": null,
      "display": null,
      "flex": null,
      "flex_flow": null,
      "grid_area": null,
      "grid_auto_columns": null,
      "grid_auto_flow": null,
      "grid_auto_rows": null,
      "grid_column": null,
      "grid_gap": null,
      "grid_row": null,
      "grid_template_areas": null,
      "grid_template_columns": null,
      "grid_template_rows": null,
      "height": null,
      "justify_content": null,
      "justify_items": null,
      "left": null,
      "margin": null,
      "max_height": null,
      "max_width": null,
      "min_height": null,
      "min_width": null,
      "object_fit": null,
      "object_position": null,
      "order": null,
      "overflow": null,
      "overflow_x": null,
      "overflow_y": null,
      "padding": null,
      "right": null,
      "top": null,
      "visibility": null,
      "width": null
     }
    },
    "cee5826ead074450a5d3380a253ea5e2": {
     "model_module": "@jupyter-widgets/base",
     "model_name": "LayoutModel",
     "state": {
      "_model_module": "@jupyter-widgets/base",
      "_model_module_version": "1.2.0",
      "_model_name": "LayoutModel",
      "_view_count": null,
      "_view_module": "@jupyter-widgets/base",
      "_view_module_version": "1.2.0",
      "_view_name": "LayoutView",
      "align_content": null,
      "align_items": null,
      "align_self": null,
      "border": null,
      "bottom": null,
      "display": null,
      "flex": null,
      "flex_flow": null,
      "grid_area": null,
      "grid_auto_columns": null,
      "grid_auto_flow": null,
      "grid_auto_rows": null,
      "grid_column": null,
      "grid_gap": null,
      "grid_row": null,
      "grid_template_areas": null,
      "grid_template_columns": null,
      "grid_template_rows": null,
      "height": null,
      "justify_content": null,
      "justify_items": null,
      "left": null,
      "margin": null,
      "max_height": null,
      "max_width": null,
      "min_height": null,
      "min_width": null,
      "object_fit": null,
      "object_position": null,
      "order": null,
      "overflow": null,
      "overflow_x": null,
      "overflow_y": null,
      "padding": null,
      "right": null,
      "top": null,
      "visibility": null,
      "width": null
     }
    },
    "d2ffdcf66d6c4df9bcc78d45e513d585": {
     "model_module": "@jupyter-widgets/base",
     "model_name": "LayoutModel",
     "state": {
      "_model_module": "@jupyter-widgets/base",
      "_model_module_version": "1.2.0",
      "_model_name": "LayoutModel",
      "_view_count": null,
      "_view_module": "@jupyter-widgets/base",
      "_view_module_version": "1.2.0",
      "_view_name": "LayoutView",
      "align_content": null,
      "align_items": null,
      "align_self": null,
      "border": null,
      "bottom": null,
      "display": null,
      "flex": null,
      "flex_flow": null,
      "grid_area": null,
      "grid_auto_columns": null,
      "grid_auto_flow": null,
      "grid_auto_rows": null,
      "grid_column": null,
      "grid_gap": null,
      "grid_row": null,
      "grid_template_areas": null,
      "grid_template_columns": null,
      "grid_template_rows": null,
      "height": null,
      "justify_content": null,
      "justify_items": null,
      "left": null,
      "margin": null,
      "max_height": null,
      "max_width": null,
      "min_height": null,
      "min_width": null,
      "object_fit": null,
      "object_position": null,
      "order": null,
      "overflow": null,
      "overflow_x": null,
      "overflow_y": null,
      "padding": null,
      "right": null,
      "top": null,
      "visibility": null,
      "width": null
     }
    },
    "d960f87b9fa1442c9c098f51df382831": {
     "model_module": "@jupyter-widgets/controls",
     "model_name": "ProgressStyleModel",
     "state": {
      "_model_module": "@jupyter-widgets/controls",
      "_model_module_version": "1.5.0",
      "_model_name": "ProgressStyleModel",
      "_view_count": null,
      "_view_module": "@jupyter-widgets/base",
      "_view_module_version": "1.2.0",
      "_view_name": "StyleView",
      "bar_color": null,
      "description_width": "initial"
     }
    },
    "dcf960f3ebaa4613ad852249941de775": {
     "model_module": "@jupyter-widgets/base",
     "model_name": "LayoutModel",
     "state": {
      "_model_module": "@jupyter-widgets/base",
      "_model_module_version": "1.2.0",
      "_model_name": "LayoutModel",
      "_view_count": null,
      "_view_module": "@jupyter-widgets/base",
      "_view_module_version": "1.2.0",
      "_view_name": "LayoutView",
      "align_content": null,
      "align_items": null,
      "align_self": null,
      "border": null,
      "bottom": null,
      "display": null,
      "flex": null,
      "flex_flow": null,
      "grid_area": null,
      "grid_auto_columns": null,
      "grid_auto_flow": null,
      "grid_auto_rows": null,
      "grid_column": null,
      "grid_gap": null,
      "grid_row": null,
      "grid_template_areas": null,
      "grid_template_columns": null,
      "grid_template_rows": null,
      "height": null,
      "justify_content": null,
      "justify_items": null,
      "left": null,
      "margin": null,
      "max_height": null,
      "max_width": null,
      "min_height": null,
      "min_width": null,
      "object_fit": null,
      "object_position": null,
      "order": null,
      "overflow": null,
      "overflow_x": null,
      "overflow_y": null,
      "padding": null,
      "right": null,
      "top": null,
      "visibility": null,
      "width": null
     }
    },
    "e418fb7d5f684ddfb318e89f7372983b": {
     "model_module": "@jupyter-widgets/controls",
     "model_name": "HBoxModel",
     "state": {
      "_dom_classes": [],
      "_model_module": "@jupyter-widgets/controls",
      "_model_module_version": "1.5.0",
      "_model_name": "HBoxModel",
      "_view_count": null,
      "_view_module": "@jupyter-widgets/controls",
      "_view_module_version": "1.5.0",
      "_view_name": "HBoxView",
      "box_style": "",
      "children": [
       "IPY_MODEL_24a418cbf6e5407bb66d9af580cd7fd7",
       "IPY_MODEL_291321fca6d241c08bbba58ed500fe88"
      ],
      "layout": "IPY_MODEL_cee5826ead074450a5d3380a253ea5e2"
     }
    },
    "f63ffacdf767468ba0e2d15c7879c9a3": {
     "model_module": "@jupyter-widgets/base",
     "model_name": "LayoutModel",
     "state": {
      "_model_module": "@jupyter-widgets/base",
      "_model_module_version": "1.2.0",
      "_model_name": "LayoutModel",
      "_view_count": null,
      "_view_module": "@jupyter-widgets/base",
      "_view_module_version": "1.2.0",
      "_view_name": "LayoutView",
      "align_content": null,
      "align_items": null,
      "align_self": null,
      "border": null,
      "bottom": null,
      "display": null,
      "flex": null,
      "flex_flow": null,
      "grid_area": null,
      "grid_auto_columns": null,
      "grid_auto_flow": null,
      "grid_auto_rows": null,
      "grid_column": null,
      "grid_gap": null,
      "grid_row": null,
      "grid_template_areas": null,
      "grid_template_columns": null,
      "grid_template_rows": null,
      "height": null,
      "justify_content": null,
      "justify_items": null,
      "left": null,
      "margin": null,
      "max_height": null,
      "max_width": null,
      "min_height": null,
      "min_width": null,
      "object_fit": null,
      "object_position": null,
      "order": null,
      "overflow": null,
      "overflow_x": null,
      "overflow_y": null,
      "padding": null,
      "right": null,
      "top": null,
      "visibility": null,
      "width": null
     }
    }
   }
  }
 },
 "nbformat": 4,
 "nbformat_minor": 1
}
